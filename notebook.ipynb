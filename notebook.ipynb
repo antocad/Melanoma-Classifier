{
 "cells": [
  {
   "cell_type": "code",
   "execution_count": 1,
   "metadata": {},
   "outputs": [
    {
     "name": "stdout",
     "output_type": "stream",
     "text": [
      "Requirement already satisfied: efficientnet in c:\\users\\antoine cadiou\\appdata\\local\\programs\\python\\python38\\lib\\site-packages (1.1.1)\n",
      "Requirement already satisfied: scikit-image in c:\\users\\antoine cadiou\\appdata\\local\\programs\\python\\python38\\lib\\site-packages (from efficientnet) (0.17.2)\n",
      "Requirement already satisfied: keras-applications<=1.0.8,>=1.0.7 in c:\\users\\antoine cadiou\\appdata\\local\\programs\\python\\python38\\lib\\site-packages (from efficientnet) (1.0.8)\n",
      "Requirement already satisfied: h5py in c:\\users\\antoine cadiou\\appdata\\local\\programs\\python\\python38\\lib\\site-packages (from keras-applications<=1.0.8,>=1.0.7->efficientnet) (2.10.0)\n",
      "Requirement already satisfied: numpy>=1.9.1 in c:\\users\\antoine cadiou\\appdata\\roaming\\python\\python38\\site-packages (from keras-applications<=1.0.8,>=1.0.7->efficientnet) (1.18.5)\n",
      "Requirement already satisfied: six in c:\\users\\antoine cadiou\\appdata\\local\\programs\\python\\python38\\lib\\site-packages (from h5py->keras-applications<=1.0.8,>=1.0.7->efficientnet) (1.14.0)\n",
      "Requirement already satisfied: PyWavelets>=1.1.1 in c:\\users\\antoine cadiou\\appdata\\local\\programs\\python\\python38\\lib\\site-packages (from scikit-image->efficientnet) (1.1.1)\n",
      "Requirement already satisfied: networkx>=2.0 in c:\\users\\antoine cadiou\\appdata\\local\\programs\\python\\python38\\lib\\site-packages (from scikit-image->efficientnet) (2.4)\n",
      "Requirement already satisfied: matplotlib!=3.0.0,>=2.0.0 in c:\\users\\antoine cadiou\\appdata\\local\\programs\\python\\python38\\lib\\site-packages (from scikit-image->efficientnet) (3.3.2)\n",
      "Requirement already satisfied: pillow!=7.1.0,!=7.1.1,>=4.3.0 in c:\\users\\antoine cadiou\\appdata\\local\\programs\\python\\python38\\lib\\site-packages (from scikit-image->efficientnet) (8.0.1)\n",
      "Requirement already satisfied: scipy>=1.0.1 in c:\\users\\antoine cadiou\\appdata\\local\\programs\\python\\python38\\lib\\site-packages (from scikit-image->efficientnet) (1.4.1)\n",
      "Requirement already satisfied: imageio>=2.3.0 in c:\\users\\antoine cadiou\\appdata\\local\\programs\\python\\python38\\lib\\site-packages (from scikit-image->efficientnet) (2.9.0)\n",
      "Requirement already satisfied: tifffile>=2019.7.26 in c:\\users\\antoine cadiou\\appdata\\local\\programs\\python\\python38\\lib\\site-packages (from scikit-image->efficientnet) (2020.7.4)\n",
      "Requirement already satisfied: pyparsing!=2.0.4,!=2.1.2,!=2.1.6,>=2.0.3 in c:\\users\\antoine cadiou\\appdata\\local\\programs\\python\\python38\\lib\\site-packages (from matplotlib!=3.0.0,>=2.0.0->scikit-image->efficientnet) (2.4.6)\n",
      "Requirement already satisfied: certifi>=2020.06.20 in c:\\users\\antoine cadiou\\appdata\\local\\programs\\python\\python38\\lib\\site-packages (from matplotlib!=3.0.0,>=2.0.0->scikit-image->efficientnet) (2020.6.20)\n",
      "Requirement already satisfied: kiwisolver>=1.0.1 in c:\\users\\antoine cadiou\\appdata\\local\\programs\\python\\python38\\lib\\site-packages (from matplotlib!=3.0.0,>=2.0.0->scikit-image->efficientnet) (1.1.0)\n",
      "Requirement already satisfied: python-dateutil>=2.1 in c:\\users\\antoine cadiou\\appdata\\local\\programs\\python\\python38\\lib\\site-packages (from matplotlib!=3.0.0,>=2.0.0->scikit-image->efficientnet) (2.8.1)\n",
      "Requirement already satisfied: cycler>=0.10 in c:\\users\\antoine cadiou\\appdata\\local\\programs\\python\\python38\\lib\\site-packages (from matplotlib!=3.0.0,>=2.0.0->scikit-image->efficientnet) (0.10.0)\n",
      "Requirement already satisfied: setuptools in c:\\users\\antoine cadiou\\appdata\\local\\programs\\python\\python38\\lib\\site-packages (from kiwisolver>=1.0.1->matplotlib!=3.0.0,>=2.0.0->scikit-image->efficientnet) (41.2.0)\n",
      "Requirement already satisfied: decorator>=4.3.0 in c:\\users\\antoine cadiou\\appdata\\local\\programs\\python\\python38\\lib\\site-packages (from networkx>=2.0->scikit-image->efficientnet) (4.4.2)\n"
     ]
    }
   ],
   "source": [
    "!pip install -U efficientnet\n",
    "\n",
    "import os\n",
    "import numpy as np\n",
    "import pandas as pd\n",
    "import matplotlib.pyplot as plt\n",
    "import tensorflow as tf\n",
    "\n",
    "from API import *\n",
    "\n",
    "#!pip install tensor-dash\n",
    "#from tensordash.tensordash import Tensordash"
   ]
  },
  {
   "cell_type": "code",
   "execution_count": 2,
   "metadata": {},
   "outputs": [
    {
     "name": "stdout",
     "output_type": "stream",
     "text": [
      "Using default strategy for CPU and single GPU\n",
      "Num GPUs Available:  1\n",
      "REPLICAS: 1\n"
     ]
    }
   ],
   "source": [
    "CFG = get_config()"
   ]
  },
  {
   "cell_type": "markdown",
   "metadata": {},
   "source": [
    "# Balancing / Reducing dataset :\n",
    "1/6 = malignant and 5/6 = benign"
   ]
  },
  {
   "cell_type": "code",
   "execution_count": null,
   "metadata": {},
   "outputs": [],
   "source": [
    "# df = pd.read_csv('data/labels.csv')\n",
    "# #cleaning data\n",
    "# df.image_name = df.image_name + \".png\"\n",
    "# df['target'] = df['benign_malignant']\n",
    "# df = df[['image_name', 'target']]\n",
    "# df.columns = ['filename', 'target']\n",
    "# #Reducing dataset size: 1/6 = malignant and 5/6 = benign\n",
    "# malignants = df[df.target=='malignant']\n",
    "# nbMalignant = len(malignants)\n",
    "# benign = df[df.target=='benign']\n",
    "# benign2 = benign.sample(nbMalignant*5, replace=False)\n",
    "# #concatenating both parts + shuffle\n",
    "# df = pd.concat([malignants,benign2])\n",
    "# df = newdf.sample(frac=1).reset_index(drop=True)\n",
    "\n",
    "# df.to_csv(\"data/df_clean.csv\", index=False)\n",
    "df = pd.read_csv(\"data/df_clean.csv\")\n",
    "df.head()"
   ]
  },
  {
   "cell_type": "code",
   "execution_count": null,
   "metadata": {},
   "outputs": [],
   "source": [
    "# files = os.listdir(\"data/tb3images\")\n",
    "\n",
    "# dftmp = []\n",
    "# for i in range(len(files)):\n",
    "#     if len(files[i].split('_'))==2:\n",
    "#         dftmp.append(files[i])\n",
    "# dftmp = pd.DataFrame(dftmp)\n",
    "# dftmp.columns=['filename']\n",
    "\n",
    "# df = pd.read_csv('data/tb3labels.csv')\n",
    "# df.image_id = df.image_id + \".jpg\"\n",
    "# df = df[['image_id', 'melanoma']]\n",
    "# df.columns = ['filename', 'target']\n",
    "# tmp = df.copy()\n",
    "# tmp[tmp.target==0] = 'benign'\n",
    "# tmp[tmp.target==1] = 'malignant'\n",
    "# df['target'] = tmp['target']\n",
    "\n",
    "# idx = [np.array(df['filename'])[i] in np.array(dftmp['filename']) for i in range(len(df))]\n",
    "# df = df[idx]\n",
    "# df"
   ]
  },
  {
   "cell_type": "markdown",
   "metadata": {},
   "source": [
    "# Create Segmentations\n",
    "Possibility to skip this step if we give a segmentation to the input "
   ]
  },
  {
   "cell_type": "code",
   "execution_count": null,
   "metadata": {},
   "outputs": [],
   "source": [
    "#get_segmentations(CFG, df, \"data/images/\", \"data/masks/\")"
   ]
  },
  {
   "cell_type": "markdown",
   "metadata": {},
   "source": [
    "# Create Dataframe with tabular features"
   ]
  },
  {
   "cell_type": "code",
   "execution_count": null,
   "metadata": {
    "scrolled": false
   },
   "outputs": [],
   "source": [
    "# df = get_tabular_dataframe(df, \"data/images/\", \"data/masks/\")\n",
    "# df.to_csv(\"data/df_tabular.csv\", index=False)\n",
    "df = pd.read_csv(\"data/df_tabular.csv\")\n",
    "df.head()"
   ]
  },
  {
   "cell_type": "markdown",
   "metadata": {},
   "source": [
    "# Create TFRecord"
   ]
  },
  {
   "cell_type": "code",
   "execution_count": null,
   "metadata": {},
   "outputs": [],
   "source": [
    "#write_tfrecord(CFG, df, \"data/images/\", \"data/tfrecord_labeled.tfrec\", True)"
   ]
  },
  {
   "cell_type": "markdown",
   "metadata": {},
   "source": [
    "# Read TFRecord"
   ]
  },
  {
   "cell_type": "code",
   "execution_count": null,
   "metadata": {},
   "outputs": [],
   "source": [
    "#dataset_train = read_tfrecord(CFG, tfrec, augment=True, repeat=True, shuffle=True)\n",
    "#this dataset will be used for evaluating, this is why we don't augment/shuffle/repeat\n",
    "#Normally, here, we have only 1 img in this dataset\n",
    "#dataset_test = read_tfrecord(CFG, tfrec, augment=False, repeat=False, shuffle=False, ordered=True)\n",
    "\n",
    "dataset = read_tfrecord(CFG, \"data/tfrecord_labeled.tfrec\", augment=False, repeat=False, shuffle=False, ordered=True, labeled=True)"
   ]
  },
  {
   "cell_type": "markdown",
   "metadata": {},
   "source": [
    "# Create Model"
   ]
  },
  {
   "cell_type": "code",
   "execution_count": null,
   "metadata": {},
   "outputs": [],
   "source": [
    "m = get_model(CFG, fine_tune=False, model_weights=\"models/model_effnetB0-4_noisy-student_transfer-learning.h5\")\n",
    "#m.summary()"
   ]
  },
  {
   "cell_type": "markdown",
   "metadata": {},
   "source": [
    "## fit the model"
   ]
  },
  {
   "cell_type": "code",
   "execution_count": null,
   "metadata": {},
   "outputs": [],
   "source": [
    "# callbacks = [tf.keras.callbacks.ReduceLROnPlateau(),\n",
    "#              tf.keras.callbacks.EarlyStopping(monitor='val_loss', patience=5),\n",
    "#              tf.keras.callbacks.ModelCheckpoint(\"models/best.h5\", save_best_only=True, monitor='val_auc', mode='max', save_weights_only=True)]\n",
    "\n",
    "# stepstrain = len(df)//CFG['batch_size'] \n",
    "# if len(df)%CFG['batch_size'] > 0: stepstrain+=1\n",
    "\n",
    "# m.fit(\n",
    "#     dataset_train,\n",
    "#     steps_per_epoch=stepstrain,\n",
    "#     epochs=CFG['epochs'],\n",
    "#     callbacks=callbacks,\n",
    "# )"
   ]
  },
  {
   "cell_type": "markdown",
   "metadata": {},
   "source": [
    "## predict"
   ]
  },
  {
   "cell_type": "code",
   "execution_count": null,
   "metadata": {
    "scrolled": false
   },
   "outputs": [],
   "source": [
    "preds = m.predict(\n",
    "        dataset,\n",
    "        steps = len(df)/CFG['batch_size'],\n",
    ")"
   ]
  },
  {
   "cell_type": "code",
   "execution_count": null,
   "metadata": {},
   "outputs": [],
   "source": [
    "ytrue = np.array(df['target']==\"malignant\").astype('int64')\n",
    "ypreds = np.argmax(preds, axis=1)"
   ]
  },
  {
   "cell_type": "code",
   "execution_count": null,
   "metadata": {},
   "outputs": [],
   "source": [
    "from sklearn.metrics import confusion_matrix, plot_confusion_matrix, ConfusionMatrixDisplay\n",
    "\n",
    "#Nos predictions en colonne\n",
    "cm = confusion_matrix(ytrue, ypreds)\n",
    "disp = ConfusionMatrixDisplay(cm, display_labels=[\"benign\", \"malignant\"])\n",
    "disp.plot(cmap=plt.cm.Blues)\n",
    "disp.ax_.set_title(\"Confusion Matrix, threshold: 0.5\")\n",
    "\n",
    "accuracy = np.mean(ytrue==ypreds)\n",
    "precision = cm[0,0]/cm.sum(axis=0)[0]\n",
    "recall = cm[0,0]/cm.sum(axis=1)[0]\n",
    "F1score = 2*(recall*precision)/(recall+precision)\n",
    "print(\"accuracy:\",accuracy)\n",
    "print(\"precision:\",precision)\n",
    "print(\"recall:\",recall)\n",
    "print(\"F1score:\",F1score)"
   ]
  },
  {
   "cell_type": "code",
   "execution_count": null,
   "metadata": {},
   "outputs": [],
   "source": [
    "ismalignant = 0.70\n",
    "ypreds2 = (preds[:,1]>ismalignant).astype('int')\n",
    "\n",
    "cm = confusion_matrix(ytrue, ypreds2)\n",
    "disp = ConfusionMatrixDisplay(cm, display_labels=[\"benign\", \"malignant\"])\n",
    "disp.plot(cmap=plt.cm.Blues)\n",
    "disp.ax_.set_title(\"Confusion Matrix, threshold: 0.35\")\n",
    "\n",
    "accuracy = np.mean(ytrue==ypreds2)\n",
    "precision = cm[0,0]/cm.sum(axis=0)[0]\n",
    "recall = cm[0,0]/cm.sum(axis=1)[0]\n",
    "F1score = 2*(recall*precision)/(recall+precision)\n",
    "print(\"accuracy:\",accuracy)\n",
    "print(\"precision:\",precision)\n",
    "print(\"recall:\",recall)\n",
    "print(\"F1score:\",F1score)"
   ]
  },
  {
   "cell_type": "code",
   "execution_count": null,
   "metadata": {},
   "outputs": [],
   "source": []
  }
 ],
 "metadata": {
  "kernelspec": {
   "display_name": "Python 3",
   "language": "python",
   "name": "python3"
  },
  "language_info": {
   "codemirror_mode": {
    "name": "ipython",
    "version": 3
   },
   "file_extension": ".py",
   "mimetype": "text/x-python",
   "name": "python",
   "nbconvert_exporter": "python",
   "pygments_lexer": "ipython3",
   "version": "3.8.1"
  }
 },
 "nbformat": 4,
 "nbformat_minor": 4
}
